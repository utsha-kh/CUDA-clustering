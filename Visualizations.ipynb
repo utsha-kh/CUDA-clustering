{
 "cells": [
  {
   "cell_type": "markdown",
   "metadata": {},
   "source": [
    "# Generate inputs data (clusters)"
   ]
  },
  {
   "cell_type": "code",
   "execution_count": 1,
   "metadata": {},
   "outputs": [],
   "source": [
    "# imports needed\n",
    "import numpy as np\n",
    "import matplotlib.pyplot as plt\n",
    "import scipy.ndimage\n",
    "import scipy.io\n",
    "from skimage import io\n",
    "from sklearn.datasets import make_blobs\n",
    "import pandas as pd"
   ]
  },
  {
   "cell_type": "markdown",
   "metadata": {},
   "source": [
    "# k = 3, N = 10000000"
   ]
  },
  {
   "cell_type": "code",
   "execution_count": 261,
   "metadata": {},
   "outputs": [],
   "source": [
    "N_SAMPLES = 10000000\n",
    "RANDOM_STATE = 42"
   ]
  },
  {
   "cell_type": "code",
   "execution_count": 269,
   "metadata": {},
   "outputs": [],
   "source": [
    "# Generate some training data from clustering\n",
    "X, y = make_blobs(n_samples=N_SAMPLES,\n",
    "                  cluster_std=[0.5, 0.5, 0.5],#, 0.5, 0.5],\n",
    "                  centers=[(-10, -10), (0, 0), (12, 5)],#, (-10, 10), (-10, 20)],\n",
    "                  random_state=RANDOM_STATE)"
   ]
  },
  {
   "cell_type": "code",
   "execution_count": 263,
   "metadata": {},
   "outputs": [
    {
     "data": {
      "text/plain": [
       "<matplotlib.collections.PathCollection at 0x7fd3fc02aba8>"
      ]
     },
     "execution_count": 263,
     "metadata": {},
     "output_type": "execute_result"
    },
    {
     "data": {
      "image/png": "[encoded data removed]",
      "text/plain": [
       "<Figure size 432x288 with 1 Axes>"
      ]
     },
     "metadata": {
      "needs_background": "light"
     },
     "output_type": "display_data"
    }
   ],
   "source": [
    "plt.scatter(X[:, 0], X[:, 1])"
   ]
  },
  {
   "cell_type": "code",
   "execution_count": 264,
   "metadata": {},
   "outputs": [],
   "source": [
    "output = pd.DataFrame(X)"
   ]
  },
  {
   "cell_type": "code",
   "execution_count": 265,
   "metadata": {},
   "outputs": [],
   "source": [
    "output.to_csv(\"input.csv\", index = False, header = False)"
   ]
  },
  {
   "cell_type": "code",
   "execution_count": null,
   "metadata": {},
   "outputs": [],
   "source": []
  },
  {
   "cell_type": "markdown",
   "metadata": {},
   "source": [
    "# Load the result from simple C++ Program and Visualize (k == 3)"
   ]
  },
  {
   "cell_type": "code",
   "execution_count": 149,
   "metadata": {},
   "outputs": [],
   "source": [
    "result = pd.read_csv(\"result.csv\")"
   ]
  },
  {
   "cell_type": "code",
   "execution_count": 150,
   "metadata": {},
   "outputs": [],
   "source": [
    "x0 = np.asarray(result[result.labels == 0])\n",
    "x1 = np.asarray(result[result.labels == 1])\n",
    "x2 = np.asarray(result[result.labels == 2])\n",
    "# x3 = np.asarray(result[result.labels == 3])\n",
    "# x4 = np.asarray(result[result.labels == 4])"
   ]
  },
  {
   "cell_type": "code",
   "execution_count": 151,
   "metadata": {},
   "outputs": [
    {
     "data": {
      "image/png": "[encoded data removed]",
      "text/plain": [
       "<Figure size 432x288 with 1 Axes>"
      ]
     },
     "metadata": {
      "needs_background": "light"
     },
     "output_type": "display_data"
    }
   ],
   "source": [
    "plt.scatter(x0[:, 0], x0[:, 1])\n",
    "plt.scatter(x1[:, 0], x1[:, 1])\n",
    "plt.scatter(x2[:, 0], x2[:, 1])\n",
    "# plt.scatter(x3[:, 0], x3[:, 1])\n",
    "# plt.scatter(x4[:, 0], x4[:, 1])\n",
    "plt.show()"
   ]
  },
  {
   "cell_type": "markdown",
   "metadata": {},
   "source": [
    "# Load the result from CUDA implementation and Visualize (k == 3)"
   ]
  },
  {
   "cell_type": "code",
   "execution_count": 266,
   "metadata": {},
   "outputs": [],
   "source": [
    "result_cuda = pd.read_csv(\"result_cuda.csv\")"
   ]
  },
  {
   "cell_type": "code",
   "execution_count": 267,
   "metadata": {},
   "outputs": [],
   "source": [
    "xc0 = np.asarray(result_cuda[result_cuda.labels == 0])\n",
    "xc1 = np.asarray(result_cuda[result_cuda.labels == 1])\n",
    "xc2 = np.asarray(result_cuda[result_cuda.labels == 2])\n",
    "# xc3 = np.asarray(result_cuda[result_cuda.labels == 3])\n",
    "# xc4 = np.asarray(result_cuda[result_cuda.labels == 4])"
   ]
  },
  {
   "cell_type": "code",
   "execution_count": 268,
   "metadata": {},
   "outputs": [
    {
     "data": {
      "image/png": "[encoded data removed]",
      "text/plain": [
       "<Figure size 432x288 with 1 Axes>"
      ]
     },
     "metadata": {
      "needs_background": "light"
     },
     "output_type": "display_data"
    }
   ],
   "source": [
    "plt.scatter(xc0[:, 0], xc0[:, 1])\n",
    "plt.scatter(xc1[:, 0], xc1[:, 1])\n",
    "plt.scatter(xc2[:, 0], xc2[:, 1])\n",
    "# plt.scatter(xc3[:, 0], xc3[:, 1])\n",
    "# plt.scatter(xc4[:, 0], xc4[:, 1])\n",
    "plt.show()"
   ]
  },
  {
   "cell_type": "markdown",
   "metadata": {},
   "source": [
    "# k = 7, N = 1000000"
   ]
  },
  {
   "cell_type": "code",
   "execution_count": 125,
   "metadata": {},
   "outputs": [],
   "source": [
    "N_SAMPLES = 1000\n",
    "RANDOM_STATE = 42"
   ]
  },
  {
   "cell_type": "code",
   "execution_count": 126,
   "metadata": {},
   "outputs": [],
   "source": [
    "# Generate some training data from clustering\n",
    "X, y = make_blobs(n_samples=N_SAMPLES,\n",
    "                  cluster_std=[0.5, 0.5, 0.5, 0.5, 0.5, 0.5, 0.5],\n",
    "                  centers=[(-50, 70), (70, -10), (30, 110), (70, 150), (-10, 30), (-10, -30), (30, 30)],\n",
    "                  random_state=RANDOM_STATE)"
   ]
  },
  {
   "cell_type": "code",
   "execution_count": 127,
   "metadata": {},
   "outputs": [
    {
     "data": {
      "text/plain": [
       "<matplotlib.collections.PathCollection at 0x7fd3fc71b630>"
      ]
     },
     "execution_count": 127,
     "metadata": {},
     "output_type": "execute_result"
    },
    {
     "data": {
      "image/png": "[encoded data removed]",
      "text/plain": [
       "<Figure size 432x288 with 1 Axes>"
      ]
     },
     "metadata": {
      "needs_background": "light"
     },
     "output_type": "display_data"
    }
   ],
   "source": [
    "plt.scatter(X[:, 0], X[:, 1])"
   ]
  },
  {
   "cell_type": "code",
   "execution_count": 128,
   "metadata": {},
   "outputs": [],
   "source": [
    "output = pd.DataFrame(X)"
   ]
  },
  {
   "cell_type": "code",
   "execution_count": 129,
   "metadata": {},
   "outputs": [],
   "source": [
    "output.to_csv(\"input.csv\", index = False, header = False)"
   ]
  },
  {
   "cell_type": "markdown",
   "metadata": {},
   "source": [
    "# Load the result from simple C++ Program and Visualize (k == 7)"
   ]
  },
  {
   "cell_type": "code",
   "execution_count": 133,
   "metadata": {},
   "outputs": [],
   "source": [
    "result = pd.read_csv(\"result.csv\")"
   ]
  },
  {
   "cell_type": "code",
   "execution_count": 134,
   "metadata": {},
   "outputs": [],
   "source": [
    "x0 = np.asarray(result[result.labels == 0])\n",
    "x1 = np.asarray(result[result.labels == 1])\n",
    "x2 = np.asarray(result[result.labels == 2])\n",
    "x3 = np.asarray(result[result.labels == 3])\n",
    "x4 = np.asarray(result[result.labels == 4])\n",
    "x5 = np.asarray(result[result.labels == 5])\n",
    "x6 = np.asarray(result[result.labels == 6])"
   ]
  },
  {
   "cell_type": "code",
   "execution_count": 135,
   "metadata": {},
   "outputs": [
    {
     "data": {
      "image/png": "[encoded data removed]",
      "text/plain": [
       "<Figure size 432x288 with 1 Axes>"
      ]
     },
     "metadata": {
      "needs_background": "light"
     },
     "output_type": "display_data"
    }
   ],
   "source": [
    "plt.scatter(x0[:, 0], x0[:, 1])\n",
    "plt.scatter(x1[:, 0], x1[:, 1])\n",
    "plt.scatter(x2[:, 0], x2[:, 1])\n",
    "plt.scatter(x3[:, 0], x3[:, 1])\n",
    "plt.scatter(x4[:, 0], x4[:, 1])\n",
    "plt.scatter(x5[:, 0], x5[:, 1])\n",
    "plt.scatter(x6[:, 0], x6[:, 1])\n",
    "plt.show()"
   ]
  },
  {
   "cell_type": "markdown",
   "metadata": {},
   "source": [
    "# Plotting Results"
   ]
  },
  {
   "cell_type": "code",
   "execution_count": 272,
   "metadata": {},
   "outputs": [],
   "source": [
    "cpp_time = [0, 0, 11, 54, 552, 7336, 49825]\n",
    "cuda_time = [86, 97, 102, 83, 112, 337, 2499]\n",
    "t_axis = [10, 100, 1000, 10000, 100000, 1000000, 10000000]"
   ]
  },
  {
   "cell_type": "code",
   "execution_count": 292,
   "metadata": {},
   "outputs": [
    {
     "data": {
      "text/plain": [
       "<matplotlib.legend.Legend at 0x7fd3fb876a20>"
      ]
     },
     "execution_count": 292,
     "metadata": {},
     "output_type": "execute_result"
    },
    {
     "data": {
      "image/png": "[encoded data removed]",
      "text/plain": [
       "<Figure size 432x288 with 1 Axes>"
      ]
     },
     "metadata": {
      "needs_background": "light"
     },
     "output_type": "display_data"
    }
   ],
   "source": [
    "plt.plot(t_axis, cpp_time, label=\"CPU time\")\n",
    "plt.plot(t_axis, cuda_time, label=\"GPU time\")\n",
    "plt.scatter(t_axis, cpp_time, color='black')\n",
    "plt.scatter(t_axis, cuda_time, color='black')\n",
    "plt.text(0.85e+7, 8000, \"2499[ms]\")\n",
    "plt.text(0.75e7, 49000, \"49825[ms]\")\n",
    "plt.xlabel(\"Input Size\")\n",
    "plt.ylabel(\"Execution Time [ms]\")\n",
    "plt.legend()"
   ]
  },
  {
   "cell_type": "code",
   "execution_count": null,
   "metadata": {},
   "outputs": [],
   "source": [
    "\n"
   ]
  }
 ],
 "metadata": {
  "kernelspec": {
   "display_name": "venv2",
   "language": "python",
   "name": "venv2"
  },
  "language_info": {
   "codemirror_mode": {
    "name": "ipython",
    "version": 3
   },
   "file_extension": ".py",
   "mimetype": "text/x-python",
   "name": "python",
   "nbconvert_exporter": "python",
   "pygments_lexer": "ipython3",
   "version": "3.6.9"
  }
 },
 "nbformat": 4,
 "nbformat_minor": 4
}
