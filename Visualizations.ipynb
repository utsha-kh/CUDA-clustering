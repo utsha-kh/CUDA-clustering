{
 "cells": [
  {
   "cell_type": "markdown",
   "metadata": {},
   "source": [
    "# Generate inputs data (clusters)"
   ]
  },
  {
   "cell_type": "code",
   "execution_count": 1,
   "metadata": {},
   "outputs": [],
   "source": [
    "# imports needed\n",
    "import numpy as np\n",
    "import matplotlib.pyplot as plt\n",
    "import scipy.ndimage\n",
    "import scipy.io\n",
    "from skimage import io\n",
    "from sklearn.datasets import make_blobs\n",
    "import pandas as pd"
   ]
  },
  {
   "cell_type": "markdown",
   "metadata": {},
   "source": [
    "# k = 3, N = 10000000"
   ]
  },
  {
   "cell_type": "code",
   "execution_count": 171,
   "metadata": {},
   "outputs": [],
   "source": [
    "N_SAMPLES = 100\n",
    "RANDOM_STATE = 42"
   ]
  },
  {
   "cell_type": "code",
   "execution_count": 172,
   "metadata": {},
   "outputs": [],
   "source": [
    "# Generate some training data from clustering\n",
    "X, y = make_blobs(n_samples=N_SAMPLES,\n",
    "                  cluster_std=[1.0, 1.0, 0.5],#, 0.5, 0.5],\n",
    "                  centers=[(-10, -10), (0, 0), (12, 5)],#, (-10, 10), (-10, 20)],\n",
    "                  random_state=RANDOM_STATE)"
   ]
  },
  {
   "cell_type": "code",
   "execution_count": 173,
   "metadata": {},
   "outputs": [
    {
     "data": {
      "text/plain": [
       "<matplotlib.collections.PathCollection at 0x7fd3fc3d9470>"
      ]
     },
     "execution_count": 173,
     "metadata": {},
     "output_type": "execute_result"
    },
    {
     "data": {
      "image/png": "[encoded data removed]",
      "text/plain": [
       "<Figure size 432x288 with 1 Axes>"
      ]
     },
     "metadata": {
      "needs_background": "light"
     },
     "output_type": "display_data"
    }
   ],
   "source": [
    "plt.scatter(X[:, 0], X[:, 1])"
   ]
  },
  {
   "cell_type": "code",
   "execution_count": 166,
   "metadata": {},
   "outputs": [],
   "source": [
    "output = pd.DataFrame(X)"
   ]
  },
  {
   "cell_type": "code",
   "execution_count": 167,
   "metadata": {},
   "outputs": [],
   "source": [
    "output.to_csv(\"input.csv\", index = False, header = False)"
   ]
  },
  {
   "cell_type": "code",
   "execution_count": null,
   "metadata": {},
   "outputs": [],
   "source": []
  },
  {
   "cell_type": "markdown",
   "metadata": {},
   "source": [
    "# Load the result from simple C++ Program and Visualize (k == 3)"
   ]
  },
  {
   "cell_type": "code",
   "execution_count": 149,
   "metadata": {},
   "outputs": [],
   "source": [
    "result = pd.read_csv(\"result.csv\")"
   ]
  },
  {
   "cell_type": "code",
   "execution_count": 150,
   "metadata": {},
   "outputs": [],
   "source": [
    "x0 = np.asarray(result[result.labels == 0])\n",
    "x1 = np.asarray(result[result.labels == 1])\n",
    "x2 = np.asarray(result[result.labels == 2])\n",
    "# x3 = np.asarray(result[result.labels == 3])\n",
    "# x4 = np.asarray(result[result.labels == 4])"
   ]
  },
  {
   "cell_type": "code",
   "execution_count": 151,
   "metadata": {},
   "outputs": [
    {
     "data": {
      "image/png": "[encoded data removed]",
      "text/plain": [
       "<Figure size 432x288 with 1 Axes>"
      ]
     },
     "metadata": {
      "needs_background": "light"
     },
     "output_type": "display_data"
    }
   ],
   "source": [
    "plt.scatter(x0[:, 0], x0[:, 1])\n",
    "plt.scatter(x1[:, 0], x1[:, 1])\n",
    "plt.scatter(x2[:, 0], x2[:, 1])\n",
    "# plt.scatter(x3[:, 0], x3[:, 1])\n",
    "# plt.scatter(x4[:, 0], x4[:, 1])\n",
    "plt.show()"
   ]
  },
  {
   "cell_type": "markdown",
   "metadata": {},
   "source": [
    "# Load the result from CUDA implementation and Visualize (k == 3)"
   ]
  },
  {
   "cell_type": "code",
   "execution_count": 168,
   "metadata": {},
   "outputs": [],
   "source": [
    "result_cuda = pd.read_csv(\"result_cuda.csv\")"
   ]
  },
  {
   "cell_type": "code",
   "execution_count": 169,
   "metadata": {},
   "outputs": [],
   "source": [
    "xc0 = np.asarray(result_cuda[result_cuda.labels == 0])\n",
    "xc1 = np.asarray(result_cuda[result_cuda.labels == 1])\n",
    "xc2 = np.asarray(result_cuda[result_cuda.labels == 2])\n",
    "# xc3 = np.asarray(result_cuda[result_cuda.labels == 3])\n",
    "# xc4 = np.asarray(result_cuda[result_cuda.labels == 4])"
   ]
  },
  {
   "cell_type": "code",
   "execution_count": 170,
   "metadata": {},
   "outputs": [
    {
     "data": {
      "image/png": "[encoded data removed]",
      "text/plain": [
       "<Figure size 432x288 with 1 Axes>"
      ]
     },
     "metadata": {
      "needs_background": "light"
     },
     "output_type": "display_data"
    }
   ],
   "source": [
    "plt.scatter(xc0[:, 0], xc0[:, 1])\n",
    "plt.scatter(xc1[:, 0], xc1[:, 1])\n",
    "plt.scatter(xc2[:, 0], xc2[:, 1])\n",
    "# plt.scatter(xc3[:, 0], xc3[:, 1])\n",
    "# plt.scatter(xc4[:, 0], xc4[:, 1])\n",
    "plt.show()"
   ]
  },
  {
   "cell_type": "markdown",
   "metadata": {},
   "source": [
    "# k = 7, N = 1000000"
   ]
  },
  {
   "cell_type": "code",
   "execution_count": 125,
   "metadata": {},
   "outputs": [],
   "source": [
    "N_SAMPLES = 1000\n",
    "RANDOM_STATE = 42"
   ]
  },
  {
   "cell_type": "code",
   "execution_count": 126,
   "metadata": {},
   "outputs": [],
   "source": [
    "# Generate some training data from clustering\n",
    "X, y = make_blobs(n_samples=N_SAMPLES,\n",
    "                  cluster_std=[0.5, 0.5, 0.5, 0.5, 0.5, 0.5, 0.5],\n",
    "                  centers=[(-50, 70), (70, -10), (30, 110), (70, 150), (-10, 30), (-10, -30), (30, 30)],\n",
    "                  random_state=RANDOM_STATE)"
   ]
  },
  {
   "cell_type": "code",
   "execution_count": 127,
   "metadata": {},
   "outputs": [
    {
     "data": {
      "text/plain": [
       "<matplotlib.collections.PathCollection at 0x7fd3fc71b630>"
      ]
     },
     "execution_count": 127,
     "metadata": {},
     "output_type": "execute_result"
    },
    {
     "data": {
      "image/png": "[encoded data removed]",
      "text/plain": [
       "<Figure size 432x288 with 1 Axes>"
      ]
     },
     "metadata": {
      "needs_background": "light"
     },
     "output_type": "display_data"
    }
   ],
   "source": [
    "plt.scatter(X[:, 0], X[:, 1])"
   ]
  },
  {
   "cell_type": "code",
   "execution_count": 128,
   "metadata": {},
   "outputs": [],
   "source": [
    "output = pd.DataFrame(X)"
   ]
  },
  {
   "cell_type": "code",
   "execution_count": 129,
   "metadata": {},
   "outputs": [],
   "source": [
    "output.to_csv(\"input.csv\", index = False, header = False)"
   ]
  },
  {
   "cell_type": "markdown",
   "metadata": {},
   "source": [
    "# Load the result from simple C++ Program and Visualize (k == 7)"
   ]
  },
  {
   "cell_type": "code",
   "execution_count": 133,
   "metadata": {},
   "outputs": [],
   "source": [
    "result = pd.read_csv(\"result.csv\")"
   ]
  },
  {
   "cell_type": "code",
   "execution_count": 134,
   "metadata": {},
   "outputs": [],
   "source": [
    "x0 = np.asarray(result[result.labels == 0])\n",
    "x1 = np.asarray(result[result.labels == 1])\n",
    "x2 = np.asarray(result[result.labels == 2])\n",
    "x3 = np.asarray(result[result.labels == 3])\n",
    "x4 = np.asarray(result[result.labels == 4])\n",
    "x5 = np.asarray(result[result.labels == 5])\n",
    "x6 = np.asarray(result[result.labels == 6])"
   ]
  },
  {
   "cell_type": "code",
   "execution_count": 135,
   "metadata": {},
   "outputs": [
    {
     "data": {
      "image/png": "[encoded data removed]",
      "text/plain": [
       "<Figure size 432x288 with 1 Axes>"
      ]
     },
     "metadata": {
      "needs_background": "light"
     },
     "output_type": "display_data"
    }
   ],
   "source": [
    "plt.scatter(x0[:, 0], x0[:, 1])\n",
    "plt.scatter(x1[:, 0], x1[:, 1])\n",
    "plt.scatter(x2[:, 0], x2[:, 1])\n",
    "plt.scatter(x3[:, 0], x3[:, 1])\n",
    "plt.scatter(x4[:, 0], x4[:, 1])\n",
    "plt.scatter(x5[:, 0], x5[:, 1])\n",
    "plt.scatter(x6[:, 0], x6[:, 1])\n",
    "plt.show()"
   ]
  },
  {
   "cell_type": "code",
   "execution_count": null,
   "metadata": {},
   "outputs": [],
   "source": []
  }
 ],
 "metadata": {
  "kernelspec": {
   "display_name": "venv2",
   "language": "python",
   "name": "venv2"
  },
  "language_info": {
   "codemirror_mode": {
    "name": "ipython",
    "version": 3
   },
   "file_extension": ".py",
   "mimetype": "text/x-python",
   "name": "python",
   "nbconvert_exporter": "python",
   "pygments_lexer": "ipython3",
   "version": "3.6.9"
  }
 },
 "nbformat": 4,
 "nbformat_minor": 4
}
